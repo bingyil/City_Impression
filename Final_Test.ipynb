{
 "cells": [
  {
   "cell_type": "code",
   "execution_count": 1,
   "metadata": {
    "scrolled": true
   },
   "outputs": [
    {
     "data": {
      "text/html": [
       "\n",
       "        <div>\n",
       "            <p><b>SparkContext</b></p>\n",
       "\n",
       "            <p><a href=\"http://127.0.0.1:4040\">Spark UI</a></p>\n",
       "\n",
       "            <dl>\n",
       "              <dt>Version</dt>\n",
       "                <dd><code>v2.2.0</code></dd>\n",
       "              <dt>Master</dt>\n",
       "                <dd><code>local[*]</code></dd>\n",
       "              <dt>AppName</dt>\n",
       "                <dd><code>PySparkShell</code></dd>\n",
       "            </dl>\n",
       "        </div>\n",
       "        "
      ],
      "text/plain": [
       "<SparkContext master=local[*] appName=PySparkShell>"
      ]
     },
     "execution_count": 1,
     "metadata": {},
     "output_type": "execute_result"
    }
   ],
   "source": [
    "import re\n",
    "import nltk\n",
    "\n",
    "from pyspark import SparkContext\n",
    "from user_definition import *\n",
    "\n",
    "from pyspark.sql import Row\n",
    "from pyspark.sql import SQLContext\n",
    "from pyspark.sql.types import *\n",
    "from pyspark.sql.functions import udf\n",
    "\n",
    "from pyspark.ml.feature import CountVectorizer\n",
    "from pyspark.ml.clustering import LDA\n",
    "from pyspark.ml.linalg import Vectors, VectorUDT\n",
    "\n",
    "sc = SparkContext.getOrCreate()\n",
    "sqlContext = SQLContext(sc)\n",
    "\n",
    "sc"
   ]
  },
  {
   "cell_type": "code",
   "execution_count": 2,
   "metadata": {},
   "outputs": [
    {
     "name": "stdout",
     "output_type": "stream",
     "text": [
      "ip = 54.186.189.193\n",
      "\n",
      "root\n",
      " |-- _id: struct (nullable = true)\n",
      " |    |-- oid: string (nullable = true)\n",
      " |-- address: string (nullable = true)\n",
      " |-- attributes: struct (nullable = true)\n",
      " |    |-- AcceptsInsurance: boolean (nullable = true)\n",
      " |    |-- AgesAllowed: string (nullable = true)\n",
      " |    |-- Alcohol: string (nullable = true)\n",
      " |    |-- Ambience: struct (nullable = true)\n",
      " |    |    |-- casual: boolean (nullable = true)\n",
      " |    |    |-- classy: boolean (nullable = true)\n",
      " |    |    |-- divey: boolean (nullable = true)\n",
      " |    |    |-- hipster: boolean (nullable = true)\n",
      " |    |    |-- intimate: boolean (nullable = true)\n",
      " |    |    |-- romantic: boolean (nullable = true)\n",
      " |    |    |-- touristy: boolean (nullable = true)\n",
      " |    |    |-- trendy: boolean (nullable = true)\n",
      " |    |    |-- upscale: boolean (nullable = true)\n",
      " |    |-- BYOB: boolean (nullable = true)\n",
      " |    |-- BYOBCorkage: string (nullable = true)\n",
      " |    |-- BestNights: struct (nullable = true)\n",
      " |    |    |-- monday: boolean (nullable = true)\n",
      " |    |    |-- tuesday: boolean (nullable = true)\n",
      " |    |    |-- friday: boolean (nullable = true)\n",
      " |    |    |-- wednesday: boolean (nullable = true)\n",
      " |    |    |-- thursday: boolean (nullable = true)\n",
      " |    |    |-- sunday: boolean (nullable = true)\n",
      " |    |    |-- saturday: boolean (nullable = true)\n",
      " |    |-- BikeParking: boolean (nullable = true)\n",
      " |    |-- BusinessAcceptsBitcoin: boolean (nullable = true)\n",
      " |    |-- BusinessAcceptsCreditCards: boolean (nullable = true)\n",
      " |    |-- BusinessParking: struct (nullable = true)\n",
      " |    |    |-- garage: boolean (nullable = true)\n",
      " |    |    |-- lot: boolean (nullable = true)\n",
      " |    |    |-- street: boolean (nullable = true)\n",
      " |    |    |-- valet: boolean (nullable = true)\n",
      " |    |    |-- validated: boolean (nullable = true)\n",
      " |    |-- ByAppointmentOnly: boolean (nullable = true)\n",
      " |    |-- Caters: boolean (nullable = true)\n",
      " |    |-- CoatCheck: boolean (nullable = true)\n",
      " |    |-- Corkage: boolean (nullable = true)\n",
      " |    |-- DietaryRestrictions: struct (nullable = true)\n",
      " |    |    |-- dairy-free: boolean (nullable = true)\n",
      " |    |    |-- gluten-free: boolean (nullable = true)\n",
      " |    |    |-- vegan: boolean (nullable = true)\n",
      " |    |    |-- kosher: boolean (nullable = true)\n",
      " |    |    |-- halal: boolean (nullable = true)\n",
      " |    |    |-- soy-free: boolean (nullable = true)\n",
      " |    |    |-- vegetarian: boolean (nullable = true)\n",
      " |    |-- DogsAllowed: boolean (nullable = true)\n",
      " |    |-- DriveThru: boolean (nullable = true)\n",
      " |    |-- GoodForDancing: boolean (nullable = true)\n",
      " |    |-- GoodForKids: boolean (nullable = true)\n",
      " |    |-- GoodForMeal: struct (nullable = true)\n",
      " |    |    |-- dessert: boolean (nullable = true)\n",
      " |    |    |-- latenight: boolean (nullable = true)\n",
      " |    |    |-- lunch: boolean (nullable = true)\n",
      " |    |    |-- dinner: boolean (nullable = true)\n",
      " |    |    |-- breakfast: boolean (nullable = true)\n",
      " |    |    |-- brunch: boolean (nullable = true)\n",
      " |    |-- HairSpecializesIn: struct (nullable = true)\n",
      " |    |    |-- coloring: boolean (nullable = true)\n",
      " |    |    |-- africanamerican: boolean (nullable = true)\n",
      " |    |    |-- curly: boolean (nullable = true)\n",
      " |    |    |-- perms: boolean (nullable = true)\n",
      " |    |    |-- kids: boolean (nullable = true)\n",
      " |    |    |-- extensions: boolean (nullable = true)\n",
      " |    |    |-- asian: boolean (nullable = true)\n",
      " |    |    |-- straightperms: boolean (nullable = true)\n",
      " |    |-- HappyHour: boolean (nullable = true)\n",
      " |    |-- HasTV: boolean (nullable = true)\n",
      " |    |-- Music: struct (nullable = true)\n",
      " |    |    |-- dj: boolean (nullable = true)\n",
      " |    |    |-- background_music: boolean (nullable = true)\n",
      " |    |    |-- no_music: boolean (nullable = true)\n",
      " |    |    |-- karaoke: boolean (nullable = true)\n",
      " |    |    |-- live: boolean (nullable = true)\n",
      " |    |    |-- video: boolean (nullable = true)\n",
      " |    |    |-- jukebox: boolean (nullable = true)\n",
      " |    |-- NoiseLevel: string (nullable = true)\n",
      " |    |-- Open24Hours: boolean (nullable = true)\n",
      " |    |-- OutdoorSeating: boolean (nullable = true)\n",
      " |    |-- RestaurantsAttire: string (nullable = true)\n",
      " |    |-- RestaurantsCounterService: boolean (nullable = true)\n",
      " |    |-- RestaurantsDelivery: boolean (nullable = true)\n",
      " |    |-- RestaurantsGoodForGroups: boolean (nullable = true)\n",
      " |    |-- RestaurantsPriceRange2: integer (nullable = true)\n",
      " |    |-- RestaurantsReservations: boolean (nullable = true)\n",
      " |    |-- RestaurantsTableService: boolean (nullable = true)\n",
      " |    |-- RestaurantsTakeOut: boolean (nullable = true)\n",
      " |    |-- Smoking: string (nullable = true)\n",
      " |    |-- WheelchairAccessible: boolean (nullable = true)\n",
      " |    |-- WiFi: string (nullable = true)\n",
      " |-- business_id: string (nullable = true)\n",
      " |-- categories: array (nullable = true)\n",
      " |    |-- element: string (containsNull = true)\n",
      " |-- city: string (nullable = true)\n",
      " |-- hours: struct (nullable = true)\n",
      " |    |-- Friday: string (nullable = true)\n",
      " |    |-- Monday: string (nullable = true)\n",
      " |    |-- Saturday: string (nullable = true)\n",
      " |    |-- Sunday: string (nullable = true)\n",
      " |    |-- Thursday: string (nullable = true)\n",
      " |    |-- Tuesday: string (nullable = true)\n",
      " |    |-- Wednesday: string (nullable = true)\n",
      " |-- is_open: integer (nullable = true)\n",
      " |-- latitude: double (nullable = true)\n",
      " |-- longitude: double (nullable = true)\n",
      " |-- name: string (nullable = true)\n",
      " |-- neighborhood: string (nullable = true)\n",
      " |-- postal_code: string (nullable = true)\n",
      " |-- review_count: integer (nullable = true)\n",
      " |-- stars: double (nullable = true)\n",
      " |-- state: string (nullable = true)\n",
      "\n"
     ]
    }
   ],
   "source": [
    "format_string = \"com.mongodb.spark.sql.DefaultSource\"\n",
    "\n",
    "business = spark.read.format(format_string).option(\"uri\",\"mongodb://{}/yelp.business\".format(ip)).load()\n",
    "#review = spark.read.format(format_string).option(\"uri\",\"mongodb://{}/yelp.review\".format(ip)).load()\n",
    "\n",
    "print \"ip = %s\" % ip\n",
    "print \"\"\n",
    "business.printSchema()"
   ]
  },
  {
   "cell_type": "code",
   "execution_count": 3,
   "metadata": {},
   "outputs": [
    {
     "name": "stdout",
     "output_type": "stream",
     "text": [
      "+--------------------+--------------------+\n",
      "|         business_id|                text|\n",
      "+--------------------+--------------------+\n",
      "|uYHaNptLzDLoV_JZ_...|If you need an in...|\n",
      "|uYHaNptLzDLoV_JZ_...|Mittlerweile gibt...|\n",
      "|uYHaNptLzDLoV_JZ_...|Location is every...|\n",
      "|uYHaNptLzDLoV_JZ_...|My girlfriend and...|\n",
      "|uYHaNptLzDLoV_JZ_...|gute lage im stad...|\n",
      "+--------------------+--------------------+\n",
      "only showing top 5 rows\n",
      "\n"
     ]
    }
   ],
   "source": [
    "review = review.select('business_id', 'text')\n",
    "review.show(5)"
   ]
  },
  {
   "cell_type": "code",
   "execution_count": 4,
   "metadata": {},
   "outputs": [
    {
     "data": {
      "text/plain": [
       "[u\"This is one star for service from Jennifer. I had set up time to see her at 9am when they opened. At 9am I was still waiting outside in line behind another gentleman, who happened to be in a wheelchair. At 9:04, Jennifer walked to the front door and unlocked it. I found it rude for her not to open the door for the wheelchair client. She hesitated to speak to me, assuming I was there with the other gentleman. If I'm going to sit in a chair with a stylist for hours, I don't care how good she/he is, I will not to pay my hard earned $ to someone who doesn't treat others kindly. I pay well for good service, so due to Jennifer, I will not only never return but I will not recommend Yelpers/friends/family to see Jennifer at Supercuts\",\n",
       " u\"Nope. Wont happen again. I promise! In a hurry after moving to town without my favorite hair stylist. Decided to gamble. Brought in a pic and got the same, usual cut, just like last time (elsewhere). A 10 minute cut is not the same as a 30-45 minute cut. My curly haired head should have demanded a hair wash so it wasn't so curly and uneven during my cut. Cut now is uneven. Noway can I straighten this mess. Needs thinning and blending. Won't return. Need a recommended stylist!\",\n",
       " u'Don\\'t believe everything you read. I read \"Mar\"\\'s review and I\\'m pretty certain I was there that day. I sat in the parking lot that morning googling on my phone & waiting for the doors to open. The doors opened at 9am and the woman there opened the door for the gentleman in a wheel chair. As \"Jennifer\" unlocked and opened the door, \"mar\" walked up & held it open from the outside for the gentleman to go in. The wheelchair gentleman was there first and was checked in first. I could tell from sitting in my car that \"mar\" stormed away shortly after, visibly annoyed and upset. When I walked in, i sat down and overheard the gentleman and Jennifer speaking. Sadly I heard the wheelchair gentleman apologize as though he did something wrong to cause \"mar\" to leave. I don\\'t come here often but many of my family members do. Also mar claims to have had an appointment but Supercuts has never accepted scheduled appointments, it has always been first come/first serve. I regularly do not leave reviews but i believe It\\'s unjust that someone would purposely leave a negative review for not getting preferential treatment. In my opinion, this place is great and mar left a negative review for not being taken first that morning. If she doesn\\'t return, she\\'s probably doing you a favor. I just wanted to provide some clarity and to apologize on behalf of all honest yelpers.',\n",
       " u\"Just had the worst haircut experience I've ever had in my life! The stylist name was Alex and she had blonde hair. There were only two girls working at the time I went in and neither of them were that friendly, I gave them my name and they didn't even welcome me to Super Cuts or even tell me how long of a wait I had. Ok, now on to the hair cut. I was asked by Alex what I wanted and I told her,  she was very quick like she was in a hurry to leave.  She finished my hair in about 3 minutes, opened the apron, grabbed the hair dryer and proceeded to blow the hair down my shirt. She then proceeded to just leave hair all over my face and neck and said I was all done. I have never been left with  hair all over me like I have at this place.  Alex has no business cutting hair and should find another line of work! I had to immediately drive over to the Target store nearby to go into the restroom to wipe all of the excess hair she left on me off, which took another 5 minutes to wipe off. This was a terrible experience for me and I didn't want to hurt her feelings in person and be 'That Guy' and embarrass her in front of others so this is why I'm posting it here.  I will not be back to see her again.  Sorry Super Cuts, you can hire better staff than that. I usually go to Great Clips and they are 3 dollars cheaper and do a better job.\",\n",
       " u\"Absolute worst haircut I have ever had.I would trust someone without there hair license to cut my hair before I would trust this place again.I can't even start to describe how horrible my haircut was.Pathetic.\"]"
      ]
     },
     "execution_count": 4,
     "metadata": {},
     "output_type": "execute_result"
    }
   ],
   "source": [
    "ids = business.filter(business.city == city).select('business_id')\n",
    "joined = ids.join(review, 'business_id', 'inner')\n",
    "train_raw = joined.rdd.map(lambda x: x[1]).cache()\n",
    "train_raw.take(5)"
   ]
  },
  {
   "cell_type": "code",
   "execution_count": 7,
   "metadata": {},
   "outputs": [
    {
     "data": {
      "text/plain": [
       "114829"
      ]
     },
     "execution_count": 7,
     "metadata": {},
     "output_type": "execute_result"
    }
   ],
   "source": [
    "train_raw.count()"
   ]
  },
  {
   "cell_type": "code",
   "execution_count": 100,
   "metadata": {
    "collapsed": true
   },
   "outputs": [],
   "source": [
    "stop_words = sc.textFile(\"./stop_words\").collect()\n",
    "common_words = ['place','time','times','food','things','customer','service','people','staff','area','order',\\\n",
    "                'year','years','day','days','minutes','company','city','customers','price','prices','money',\\\n",
    "                'location','hour','hours']\n",
    "accepted_pos = ['NN','NNP','NNS']#,'JJ','JJR','JJS']\n",
    "\n",
    "def tokenize(text):\n",
    "    regex = re.compile('[' + re.escape(\"!\\\"#$%&()*+,-./:;<=>?@[\\]^_`{|}~\") + '0-9\\\\r\\\\t\\\\n]')\n",
    "    words = nltk.word_tokenize(regex.sub(\" \", text.lower()), 'english', False)\n",
    "    words = [w for w in words if len(w) > 2 and w not in stop_words and w not in common_words]\n",
    "    unigrams = [word for word,pos in nltk.pos_tag(words) if pos in accepted_pos]\n",
    "    return unigrams"
   ]
  },
  {
   "cell_type": "code",
   "execution_count": 101,
   "metadata": {},
   "outputs": [
    {
     "name": "stdout",
     "output_type": "stream",
     "text": [
      "+--------------------+--------------------+\n",
      "|                  _1|            features|\n",
      "+--------------------+--------------------+\n",
      "|[star, jennifer, ...|(2000,[6,40,67,75...|\n",
      "|[nope, promise, h...|(2000,[72,92,169,...|\n",
      "|[review, lot, mor...|(2000,[2,6,14,34,...|\n",
      "|[haircut, experie...|(2000,[0,1,5,9,12...|\n",
      "|[absolute, haircu...|(2000,[72,169,408...|\n",
      "+--------------------+--------------------+\n",
      "only showing top 5 rows\n",
      "\n"
     ]
    }
   ],
   "source": [
    "list_to_vector_udf = udf(lambda l: Vectors.dense(l), VectorUDT())\n",
    "word_occurence = train_raw.map(lambda x: [tokenize(x)]).toDF()\n",
    "\n",
    "cv = CountVectorizer(inputCol='_1', outputCol='features', vocabSize=2000)\n",
    "cv_model = cv.fit(word_occurence)\n",
    "train = cv_model.transform(word_occurence).cache()\n",
    "\n",
    "train.show(5)"
   ]
  },
  {
   "cell_type": "code",
   "execution_count": 137,
   "metadata": {
    "collapsed": true
   },
   "outputs": [],
   "source": [
    "lda_model = LDA(k=30, maxIter=10).fit(train)"
   ]
  },
  {
   "cell_type": "code",
   "execution_count": 138,
   "metadata": {
    "scrolled": true
   },
   "outputs": [
    {
     "name": "stdout",
     "output_type": "stream",
     "text": [
      "+------------------------------------------------+\n",
      "|topics_words                                    |\n",
      "+------------------------------------------------+\n",
      "|[sushi, bar, night, bread, roll]                |\n",
      "|[car, work, oil, shop, change]                  |\n",
      "|[work, call, business, phone, job]              |\n",
      "|[office, manager, care, experience, water]      |\n",
      "|[dress, dresses, work, sum, dim]                |\n",
      "|[chicken, rice, restaurant, thai, soup]         |\n",
      "|[drive, stars, pho, joe, hour]                  |\n",
      "|[party, barber, birthday, lee, tenders]         |\n",
      "|[location, quality, job, shop, breakfast]       |\n",
      "|[store, prices, selection, items, shop]         |\n",
      "|[room, hotel, desk, night, stay]                |\n",
      "|[hair, love, cut, salon, appointment]           |\n",
      "|[fries, cream, store, ice, kids]                |\n",
      "|[pizza, wings, crust, bar, location]            |\n",
      "|[unit, job, gas, guy, business]                 |\n",
      "|[massage, apartment, management, room, pedicure]|\n",
      "|[beef, lunch, tacos, sauce, chicken]            |\n",
      "|[drinks, dinner, restaurant, experience, night] |\n",
      "|[kids, children, fun, location, school]         |\n",
      "|[class, gym, classes, experience, equipment]    |\n",
      "+------------------------------------------------+\n",
      "only showing top 20 rows\n",
      "\n"
     ]
    }
   ],
   "source": [
    "def indices_to_terms(vocabulary):\n",
    "    def indices_to_terms(xs):\n",
    "        return [vocabulary[int(x)] for x in xs]\n",
    "    return udf(indices_to_terms, ArrayType(StringType()))\n",
    "\n",
    "# Describe topics.\n",
    "topics = lda_model.describeTopics(5)\n",
    "topics.withColumn(\"topics_words\", \\\n",
    "                  indices_to_terms(cv_model.vocabulary)(\"termIndices\")).select('topics_words').show(truncate=False)"
   ]
  },
  {
   "cell_type": "code",
   "execution_count": 134,
   "metadata": {},
   "outputs": [
    {
     "name": "stdout",
     "output_type": "stream",
     "text": [
      "+----------+-----+\n",
      "|      city|count|\n",
      "+----------+-----+\n",
      "| Las Vegas|24768|\n",
      "|   Phoenix|15656|\n",
      "|   Toronto|15483|\n",
      "| Charlotte| 7557|\n",
      "|Scottsdale| 7510|\n",
      "|Pittsburgh| 5688|\n",
      "|  Montréal| 5175|\n",
      "|      Mesa| 5146|\n",
      "| Henderson| 4130|\n",
      "|     Tempe| 3949|\n",
      "+----------+-----+\n",
      "only showing top 10 rows\n",
      "\n"
     ]
    }
   ],
   "source": [
    "business.groupby('city').count().orderBy('count', ascending=False).show(10)"
   ]
  },
  {
   "cell_type": "code",
   "execution_count": 1,
   "metadata": {
    "collapsed": true
   },
   "outputs": [],
   "source": [
    "import string"
   ]
  },
  {
   "cell_type": "code",
   "execution_count": 2,
   "metadata": {},
   "outputs": [
    {
     "data": {
      "text/plain": [
       "'!\"#$%&\\'()*+,-./:;<=>?@[\\\\]^_`{|}~'"
      ]
     },
     "execution_count": 2,
     "metadata": {},
     "output_type": "execute_result"
    }
   ],
   "source": [
    "string.punctuation"
   ]
  },
  {
   "cell_type": "code",
   "execution_count": null,
   "metadata": {
    "collapsed": true
   },
   "outputs": [],
   "source": []
  }
 ],
 "metadata": {
  "kernelspec": {
   "display_name": "Python 2",
   "language": "python",
   "name": "python2"
  },
  "language_info": {
   "codemirror_mode": {
    "name": "ipython",
    "version": 2
   },
   "file_extension": ".py",
   "mimetype": "text/x-python",
   "name": "python",
   "nbconvert_exporter": "python",
   "pygments_lexer": "ipython2",
   "version": "2.7.13"
  }
 },
 "nbformat": 4,
 "nbformat_minor": 2
}
